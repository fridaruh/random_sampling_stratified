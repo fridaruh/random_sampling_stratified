{
 "cells": [
  {
   "cell_type": "code",
   "execution_count": 1,
   "metadata": {},
   "outputs": [],
   "source": [
    "# Packages imports\n",
    "import numpy as np\n",
    "import pandas as pd\n",
    "import scipy.stats as stats\n",
    "import statsmodels.stats.api as sms\n",
    "import matplotlib as mpl\n",
    "import matplotlib.pyplot as plt\n",
    "import seaborn as sns"
   ]
  },
  {
   "cell_type": "code",
   "execution_count": 2,
   "metadata": {},
   "outputs": [],
   "source": [
    "df = pd.read_csv('dataframe.csv')"
   ]
  },
  {
   "cell_type": "code",
   "execution_count": 3,
   "metadata": {},
   "outputs": [
    {
     "data": {
      "text/html": [
       "<div>\n",
       "<style scoped>\n",
       "    .dataframe tbody tr th:only-of-type {\n",
       "        vertical-align: middle;\n",
       "    }\n",
       "\n",
       "    .dataframe tbody tr th {\n",
       "        vertical-align: top;\n",
       "    }\n",
       "\n",
       "    .dataframe thead th {\n",
       "        text-align: right;\n",
       "    }\n",
       "</style>\n",
       "<table border=\"1\" class=\"dataframe\">\n",
       "  <thead>\n",
       "    <tr style=\"text-align: right;\">\n",
       "      <th></th>\n",
       "      <th>user_id</th>\n",
       "      <th>num_compras</th>\n",
       "      <th>Churn_Rate</th>\n",
       "    </tr>\n",
       "  </thead>\n",
       "  <tbody>\n",
       "    <tr>\n",
       "      <th>0</th>\n",
       "      <td>2</td>\n",
       "      <td>10</td>\n",
       "      <td>0.3846</td>\n",
       "    </tr>\n",
       "    <tr>\n",
       "      <th>1</th>\n",
       "      <td>52</td>\n",
       "      <td>22</td>\n",
       "      <td>0.4615</td>\n",
       "    </tr>\n",
       "    <tr>\n",
       "      <th>2</th>\n",
       "      <td>59</td>\n",
       "      <td>36</td>\n",
       "      <td>0.8462</td>\n",
       "    </tr>\n",
       "    <tr>\n",
       "      <th>3</th>\n",
       "      <td>85</td>\n",
       "      <td>60</td>\n",
       "      <td>0.8462</td>\n",
       "    </tr>\n",
       "    <tr>\n",
       "      <th>4</th>\n",
       "      <td>91</td>\n",
       "      <td>27</td>\n",
       "      <td>0.3846</td>\n",
       "    </tr>\n",
       "  </tbody>\n",
       "</table>\n",
       "</div>"
      ],
      "text/plain": [
       "   user_id  num_compras  Churn_Rate\n",
       "0        2           10      0.3846\n",
       "1       52           22      0.4615\n",
       "2       59           36      0.8462\n",
       "3       85           60      0.8462\n",
       "4       91           27      0.3846"
      ]
     },
     "execution_count": 3,
     "metadata": {},
     "output_type": "execute_result"
    }
   ],
   "source": [
    "df.head()"
   ]
  },
  {
   "cell_type": "code",
   "execution_count": 4,
   "metadata": {},
   "outputs": [
    {
     "data": {
      "text/plain": [
       "(8398, 3)"
      ]
     },
     "execution_count": 4,
     "metadata": {},
     "output_type": "execute_result"
    }
   ],
   "source": [
    "df.shape"
   ]
  },
  {
   "cell_type": "code",
   "execution_count": 5,
   "metadata": {},
   "outputs": [
    {
     "data": {
      "text/plain": [
       "count    8398.000000\n",
       "mean       17.160872\n",
       "std        14.156863\n",
       "min         5.000000\n",
       "25%         8.000000\n",
       "50%        13.000000\n",
       "75%        21.000000\n",
       "max       143.000000\n",
       "Name: num_compras, dtype: float64"
      ]
     },
     "execution_count": 5,
     "metadata": {},
     "output_type": "execute_result"
    }
   ],
   "source": [
    "df['num_compras'].describe()"
   ]
  },
  {
   "cell_type": "code",
   "execution_count": 6,
   "metadata": {},
   "outputs": [
    {
     "data": {
      "text/plain": [
       "array([0.3077, 0.3077, 0.3077, 0.3846, 0.3846, 0.4615, 0.5385, 0.6154,\n",
       "       0.6923, 0.7692])"
      ]
     },
     "execution_count": 6,
     "metadata": {},
     "output_type": "execute_result"
    }
   ],
   "source": [
    "np.percentile(df['Churn_Rate'], np.arange(0, 100, 10))\n"
   ]
  },
  {
   "cell_type": "code",
   "execution_count": 7,
   "metadata": {},
   "outputs": [],
   "source": [
    "df['Num_Com_Bin'] = np.where((df['num_compras']<=8),'Compras_25%',\n",
    "                             np.where((df['num_compras']>8)&(df['num_compras']<=13),'Compras_50%',\n",
    "                             np.where((df['num_compras']>13)&(df['num_compras']<=21),'Compras_75%',\n",
    "                             np.where((df['num_compras']>21),'Compras_100%',''))))"
   ]
  },
  {
   "cell_type": "code",
   "execution_count": 8,
   "metadata": {},
   "outputs": [],
   "source": [
    "df['Rate_Churn_Bin'] = np.where((df['Churn_Rate']<0.3846),'Churn_3Decil',\n",
    "                               np.where((df['Churn_Rate']>=0.3846)&(df['Churn_Rate']<0.4615),'Churn_4Decil',\n",
    "                               np.where((df['Churn_Rate']>=0.4615)&(df['Churn_Rate']<0.5385),'Churn_5Decil',\n",
    "                               np.where((df['Churn_Rate']>=0.5385)&(df['Churn_Rate']<0.6154),'Churn_6Decil',\n",
    "                               np.where((df['Churn_Rate']>=0.6154)&(df['Churn_Rate']<0.6923),'Churn_7Decil',\n",
    "                               np.where((df['Churn_Rate']>=0.6923)&(df['Churn_Rate']<0.7692),'Churn_8Decil',\n",
    "                               np.where((df['Churn_Rate']>=0.7692),'Churn_9Decil','')))))))"
   ]
  },
  {
   "cell_type": "code",
   "execution_count": 9,
   "metadata": {},
   "outputs": [
    {
     "data": {
      "text/plain": [
       "array(['Compras_50%', 'Compras_100%', 'Compras_75%', 'Compras_25%'],\n",
       "      dtype=object)"
      ]
     },
     "execution_count": 9,
     "metadata": {},
     "output_type": "execute_result"
    }
   ],
   "source": [
    "df['Num_Com_Bin'].unique()"
   ]
  },
  {
   "cell_type": "code",
   "execution_count": 10,
   "metadata": {},
   "outputs": [
    {
     "data": {
      "text/plain": [
       "array(['Churn_4Decil', 'Churn_5Decil', 'Churn_9Decil', 'Churn_7Decil',\n",
       "       'Churn_8Decil', 'Churn_3Decil', 'Churn_6Decil'], dtype=object)"
      ]
     },
     "execution_count": 10,
     "metadata": {},
     "output_type": "execute_result"
    }
   ],
   "source": [
    "df['Rate_Churn_Bin'].unique()"
   ]
  },
  {
   "cell_type": "code",
   "execution_count": 11,
   "metadata": {},
   "outputs": [],
   "source": [
    "df['target'] = df['Num_Com_Bin']+df['Rate_Churn_Bin']"
   ]
  },
  {
   "cell_type": "code",
   "execution_count": 12,
   "metadata": {},
   "outputs": [
    {
     "data": {
      "text/html": [
       "<div>\n",
       "<style scoped>\n",
       "    .dataframe tbody tr th:only-of-type {\n",
       "        vertical-align: middle;\n",
       "    }\n",
       "\n",
       "    .dataframe tbody tr th {\n",
       "        vertical-align: top;\n",
       "    }\n",
       "\n",
       "    .dataframe thead th {\n",
       "        text-align: right;\n",
       "    }\n",
       "</style>\n",
       "<table border=\"1\" class=\"dataframe\">\n",
       "  <thead>\n",
       "    <tr style=\"text-align: right;\">\n",
       "      <th></th>\n",
       "      <th>user_id</th>\n",
       "      <th>num_compras</th>\n",
       "      <th>Churn_Rate</th>\n",
       "      <th>Num_Com_Bin</th>\n",
       "      <th>Rate_Churn_Bin</th>\n",
       "      <th>target</th>\n",
       "    </tr>\n",
       "  </thead>\n",
       "  <tbody>\n",
       "    <tr>\n",
       "      <th>0</th>\n",
       "      <td>2</td>\n",
       "      <td>10</td>\n",
       "      <td>0.3846</td>\n",
       "      <td>Compras_50%</td>\n",
       "      <td>Churn_4Decil</td>\n",
       "      <td>Compras_50%Churn_4Decil</td>\n",
       "    </tr>\n",
       "    <tr>\n",
       "      <th>1</th>\n",
       "      <td>52</td>\n",
       "      <td>22</td>\n",
       "      <td>0.4615</td>\n",
       "      <td>Compras_100%</td>\n",
       "      <td>Churn_5Decil</td>\n",
       "      <td>Compras_100%Churn_5Decil</td>\n",
       "    </tr>\n",
       "    <tr>\n",
       "      <th>2</th>\n",
       "      <td>59</td>\n",
       "      <td>36</td>\n",
       "      <td>0.8462</td>\n",
       "      <td>Compras_100%</td>\n",
       "      <td>Churn_9Decil</td>\n",
       "      <td>Compras_100%Churn_9Decil</td>\n",
       "    </tr>\n",
       "    <tr>\n",
       "      <th>3</th>\n",
       "      <td>85</td>\n",
       "      <td>60</td>\n",
       "      <td>0.8462</td>\n",
       "      <td>Compras_100%</td>\n",
       "      <td>Churn_9Decil</td>\n",
       "      <td>Compras_100%Churn_9Decil</td>\n",
       "    </tr>\n",
       "    <tr>\n",
       "      <th>4</th>\n",
       "      <td>91</td>\n",
       "      <td>27</td>\n",
       "      <td>0.3846</td>\n",
       "      <td>Compras_100%</td>\n",
       "      <td>Churn_4Decil</td>\n",
       "      <td>Compras_100%Churn_4Decil</td>\n",
       "    </tr>\n",
       "  </tbody>\n",
       "</table>\n",
       "</div>"
      ],
      "text/plain": [
       "   user_id  num_compras  Churn_Rate   Num_Com_Bin Rate_Churn_Bin  \\\n",
       "0        2           10      0.3846   Compras_50%   Churn_4Decil   \n",
       "1       52           22      0.4615  Compras_100%   Churn_5Decil   \n",
       "2       59           36      0.8462  Compras_100%   Churn_9Decil   \n",
       "3       85           60      0.8462  Compras_100%   Churn_9Decil   \n",
       "4       91           27      0.3846  Compras_100%   Churn_4Decil   \n",
       "\n",
       "                     target  \n",
       "0   Compras_50%Churn_4Decil  \n",
       "1  Compras_100%Churn_5Decil  \n",
       "2  Compras_100%Churn_9Decil  \n",
       "3  Compras_100%Churn_9Decil  \n",
       "4  Compras_100%Churn_4Decil  "
      ]
     },
     "execution_count": 12,
     "metadata": {},
     "output_type": "execute_result"
    }
   ],
   "source": [
    "df.head()"
   ]
  },
  {
   "cell_type": "code",
   "execution_count": 13,
   "metadata": {},
   "outputs": [
    {
     "data": {
      "text/plain": [
       "Compras_25%Churn_3Decil     1425\n",
       "Compras_100%Churn_9Decil    1019\n",
       "Compras_25%Churn_4Decil      730\n",
       "Compras_50%Churn_4Decil      565\n",
       "Compras_50%Churn_5Decil      471\n",
       "Compras_50%Churn_3Decil      412\n",
       "Compras_75%Churn_7Decil      396\n",
       "Compras_75%Churn_6Decil      369\n",
       "Compras_50%Churn_6Decil      360\n",
       "Compras_100%Churn_8Decil     359\n",
       "Compras_75%Churn_5Decil      334\n",
       "Compras_100%Churn_7Decil     265\n",
       "Compras_75%Churn_8Decil      262\n",
       "Compras_75%Churn_4Decil      251\n",
       "Compras_25%Churn_5Decil      239\n",
       "Compras_100%Churn_6Decil     177\n",
       "Compras_50%Churn_7Decil      146\n",
       "Compras_75%Churn_3Decil      145\n",
       "Compras_75%Churn_9Decil      135\n",
       "Compras_100%Churn_5Decil     113\n",
       "Compras_100%Churn_4Decil      76\n",
       "Compras_25%Churn_6Decil       58\n",
       "Compras_50%Churn_8Decil       44\n",
       "Compras_100%Churn_3Decil      36\n",
       "Compras_50%Churn_9Decil        6\n",
       "Compras_25%Churn_7Decil        5\n",
       "Name: target, dtype: int64"
      ]
     },
     "execution_count": 13,
     "metadata": {},
     "output_type": "execute_result"
    }
   ],
   "source": [
    "df['target'].value_counts()"
   ]
  },
  {
   "cell_type": "code",
   "execution_count": 14,
   "metadata": {},
   "outputs": [],
   "source": [
    "y_1 = df['target']"
   ]
  },
  {
   "cell_type": "code",
   "execution_count": 15,
   "metadata": {},
   "outputs": [],
   "source": [
    "X_1 = df.copy(deep=True)"
   ]
  },
  {
   "cell_type": "code",
   "execution_count": 16,
   "metadata": {},
   "outputs": [],
   "source": [
    "from sklearn.model_selection import train_test_split"
   ]
  },
  {
   "cell_type": "code",
   "execution_count": 17,
   "metadata": {},
   "outputs": [],
   "source": [
    "X_train_1, X_test_1, y_train_1, y_test_1 = train_test_split(X_1, y_1, stratify=y_1, test_size=0.11907)"
   ]
  },
  {
   "cell_type": "code",
   "execution_count": 18,
   "metadata": {},
   "outputs": [],
   "source": [
    "X_train_2, X_test_2, y_train_2, y_test_2 = train_test_split(X_train_1, y_train_1, stratify=y_train_1, test_size=0.135171)"
   ]
  },
  {
   "cell_type": "code",
   "execution_count": 19,
   "metadata": {},
   "outputs": [
    {
     "data": {
      "text/plain": [
       "(1000, 6)"
      ]
     },
     "execution_count": 19,
     "metadata": {},
     "output_type": "execute_result"
    }
   ],
   "source": [
    "X_test_1.shape"
   ]
  },
  {
   "cell_type": "code",
   "execution_count": 20,
   "metadata": {},
   "outputs": [
    {
     "data": {
      "text/plain": [
       "(1000, 6)"
      ]
     },
     "execution_count": 20,
     "metadata": {},
     "output_type": "execute_result"
    }
   ],
   "source": [
    "X_test_2.shape"
   ]
  },
  {
   "cell_type": "code",
   "execution_count": 21,
   "metadata": {},
   "outputs": [
    {
     "data": {
      "text/plain": [
       "Compras_25%Churn_3Decil     170\n",
       "Compras_100%Churn_9Decil    121\n",
       "Compras_25%Churn_4Decil      87\n",
       "Compras_50%Churn_4Decil      67\n",
       "Compras_50%Churn_5Decil      56\n",
       "Compras_50%Churn_3Decil      49\n",
       "Compras_75%Churn_7Decil      47\n",
       "Compras_75%Churn_6Decil      44\n",
       "Compras_100%Churn_8Decil     43\n",
       "Compras_50%Churn_6Decil      43\n",
       "Compras_75%Churn_5Decil      40\n",
       "Compras_100%Churn_7Decil     32\n",
       "Compras_75%Churn_8Decil      31\n",
       "Compras_75%Churn_4Decil      30\n",
       "Compras_25%Churn_5Decil      29\n",
       "Compras_100%Churn_6Decil     21\n",
       "Compras_75%Churn_3Decil      17\n",
       "Compras_50%Churn_7Decil      17\n",
       "Compras_75%Churn_9Decil      16\n",
       "Compras_100%Churn_5Decil     13\n",
       "Compras_100%Churn_4Decil      9\n",
       "Compras_25%Churn_6Decil       7\n",
       "Compras_50%Churn_8Decil       5\n",
       "Compras_100%Churn_3Decil      4\n",
       "Compras_50%Churn_9Decil       1\n",
       "Compras_25%Churn_7Decil       1\n",
       "Name: target, dtype: int64"
      ]
     },
     "execution_count": 21,
     "metadata": {},
     "output_type": "execute_result"
    }
   ],
   "source": [
    "X_test_1.target.value_counts()"
   ]
  },
  {
   "cell_type": "code",
   "execution_count": 22,
   "metadata": {},
   "outputs": [
    {
     "data": {
      "text/plain": [
       "Compras_25%Churn_3Decil     170\n",
       "Compras_100%Churn_9Decil    121\n",
       "Compras_25%Churn_4Decil      87\n",
       "Compras_50%Churn_4Decil      67\n",
       "Compras_50%Churn_5Decil      56\n",
       "Compras_50%Churn_3Decil      49\n",
       "Compras_75%Churn_7Decil      47\n",
       "Compras_75%Churn_6Decil      44\n",
       "Compras_100%Churn_8Decil     43\n",
       "Compras_50%Churn_6Decil      43\n",
       "Compras_75%Churn_5Decil      40\n",
       "Compras_100%Churn_7Decil     32\n",
       "Compras_75%Churn_8Decil      31\n",
       "Compras_75%Churn_4Decil      30\n",
       "Compras_25%Churn_5Decil      28\n",
       "Compras_100%Churn_6Decil     21\n",
       "Compras_75%Churn_3Decil      17\n",
       "Compras_50%Churn_7Decil      17\n",
       "Compras_75%Churn_9Decil      16\n",
       "Compras_100%Churn_5Decil     14\n",
       "Compras_100%Churn_4Decil      9\n",
       "Compras_25%Churn_6Decil       7\n",
       "Compras_50%Churn_8Decil       5\n",
       "Compras_100%Churn_3Decil      4\n",
       "Compras_50%Churn_9Decil       1\n",
       "Compras_25%Churn_7Decil       1\n",
       "Name: target, dtype: int64"
      ]
     },
     "execution_count": 22,
     "metadata": {},
     "output_type": "execute_result"
    }
   ],
   "source": [
    "X_test_2.target.value_counts()"
   ]
  },
  {
   "cell_type": "code",
   "execution_count": 23,
   "metadata": {},
   "outputs": [
    {
     "data": {
      "text/html": [
       "<div>\n",
       "<style scoped>\n",
       "    .dataframe tbody tr th:only-of-type {\n",
       "        vertical-align: middle;\n",
       "    }\n",
       "\n",
       "    .dataframe tbody tr th {\n",
       "        vertical-align: top;\n",
       "    }\n",
       "\n",
       "    .dataframe thead th {\n",
       "        text-align: right;\n",
       "    }\n",
       "</style>\n",
       "<table border=\"1\" class=\"dataframe\">\n",
       "  <thead>\n",
       "    <tr style=\"text-align: right;\">\n",
       "      <th></th>\n",
       "      <th>user_id</th>\n",
       "      <th>num_compras</th>\n",
       "      <th>Churn_Rate</th>\n",
       "      <th>Num_Com_Bin</th>\n",
       "      <th>Rate_Churn_Bin</th>\n",
       "      <th>target</th>\n",
       "    </tr>\n",
       "  </thead>\n",
       "  <tbody>\n",
       "    <tr>\n",
       "      <th>4356</th>\n",
       "      <td>160687</td>\n",
       "      <td>10</td>\n",
       "      <td>0.3846</td>\n",
       "      <td>Compras_50%</td>\n",
       "      <td>Churn_4Decil</td>\n",
       "      <td>Compras_50%Churn_4Decil</td>\n",
       "    </tr>\n",
       "    <tr>\n",
       "      <th>117</th>\n",
       "      <td>1938</td>\n",
       "      <td>14</td>\n",
       "      <td>0.6154</td>\n",
       "      <td>Compras_75%</td>\n",
       "      <td>Churn_7Decil</td>\n",
       "      <td>Compras_75%Churn_7Decil</td>\n",
       "    </tr>\n",
       "    <tr>\n",
       "      <th>1366</th>\n",
       "      <td>68362</td>\n",
       "      <td>17</td>\n",
       "      <td>0.5385</td>\n",
       "      <td>Compras_75%</td>\n",
       "      <td>Churn_6Decil</td>\n",
       "      <td>Compras_75%Churn_6Decil</td>\n",
       "    </tr>\n",
       "    <tr>\n",
       "      <th>5608</th>\n",
       "      <td>204619</td>\n",
       "      <td>5</td>\n",
       "      <td>0.3077</td>\n",
       "      <td>Compras_25%</td>\n",
       "      <td>Churn_3Decil</td>\n",
       "      <td>Compras_25%Churn_3Decil</td>\n",
       "    </tr>\n",
       "    <tr>\n",
       "      <th>7727</th>\n",
       "      <td>312387</td>\n",
       "      <td>11</td>\n",
       "      <td>0.3846</td>\n",
       "      <td>Compras_50%</td>\n",
       "      <td>Churn_4Decil</td>\n",
       "      <td>Compras_50%Churn_4Decil</td>\n",
       "    </tr>\n",
       "  </tbody>\n",
       "</table>\n",
       "</div>"
      ],
      "text/plain": [
       "      user_id  num_compras  Churn_Rate  Num_Com_Bin Rate_Churn_Bin  \\\n",
       "4356   160687           10      0.3846  Compras_50%   Churn_4Decil   \n",
       "117      1938           14      0.6154  Compras_75%   Churn_7Decil   \n",
       "1366    68362           17      0.5385  Compras_75%   Churn_6Decil   \n",
       "5608   204619            5      0.3077  Compras_25%   Churn_3Decil   \n",
       "7727   312387           11      0.3846  Compras_50%   Churn_4Decil   \n",
       "\n",
       "                       target  \n",
       "4356  Compras_50%Churn_4Decil  \n",
       "117   Compras_75%Churn_7Decil  \n",
       "1366  Compras_75%Churn_6Decil  \n",
       "5608  Compras_25%Churn_3Decil  \n",
       "7727  Compras_50%Churn_4Decil  "
      ]
     },
     "execution_count": 23,
     "metadata": {},
     "output_type": "execute_result"
    }
   ],
   "source": [
    "X_test_1.head()"
   ]
  },
  {
   "cell_type": "code",
   "execution_count": 24,
   "metadata": {},
   "outputs": [],
   "source": [
    "X_test_1.to_excel('./data/grupo_piloto.xlsx')"
   ]
  },
  {
   "cell_type": "code",
   "execution_count": 25,
   "metadata": {},
   "outputs": [],
   "source": [
    "X_test_2.to_excel('./data/grupo_control.xlsx')"
   ]
  },
  {
   "cell_type": "code",
   "execution_count": null,
   "metadata": {},
   "outputs": [],
   "source": []
  }
 ],
 "metadata": {
  "kernelspec": {
   "display_name": "Python 3",
   "language": "python",
   "name": "python3"
  },
  "language_info": {
   "codemirror_mode": {
    "name": "ipython",
    "version": 3
   },
   "file_extension": ".py",
   "mimetype": "text/x-python",
   "name": "python",
   "nbconvert_exporter": "python",
   "pygments_lexer": "ipython3",
   "version": "3.8.5"
  }
 },
 "nbformat": 4,
 "nbformat_minor": 4
}
